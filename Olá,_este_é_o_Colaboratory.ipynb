{
  "cells": [
    {
      "cell_type": "markdown",
      "metadata": {
        "id": "view-in-github",
        "colab_type": "text"
      },
      "source": [
        "<a href=\"https://colab.research.google.com/github/RenanTzy/exercicios-Python/blob/main/Ol%C3%A1%2C_este_%C3%A9_o_Colaboratory.ipynb\" target=\"_parent\"><img src=\"https://colab.research.google.com/assets/colab-badge.svg\" alt=\"Open In Colab\"/></a>"
      ]
    },
    {
      "cell_type": "markdown",
      "source": [
        "Definição de matrix"
      ],
      "metadata": {
        "id": "lAadL96QGm7N"
      }
    },
    {
      "cell_type": "code",
      "source": [
        "from numpy import matrix\n",
        "\n",
        "#estrutura de uma matrix.\n",
        "matriz_A = matrix([\n",
        "            [1,2,3], #A virgula server para indicar que houve a quebra de minha da matriz\n",
        "            [4,5,6],\n",
        "            [7,8,9]\n",
        "            ])\n",
        "\n",
        "print(\"Matriz A\")\n",
        "print(matriz_A)\n",
        "print(\"Dimensão da matriz A\\n\",matriz_A.shape) #função shape indica o tamanho da matriz. EX: 3x3"
      ],
      "metadata": {
        "id": "OSTz1xwvGkha",
        "outputId": "9e868621-9c15-4c46-86dc-1b4cb55c1503",
        "colab": {
          "base_uri": "https://localhost:8080/"
        }
      },
      "execution_count": 17,
      "outputs": [
        {
          "output_type": "stream",
          "name": "stdout",
          "text": [
            "Matriz A\n",
            "[[1 2 3]\n",
            " [4 5 6]\n",
            " [7 8 9]]\n",
            "Dimensão da matriz A\n",
            " (3, 3)\n"
          ]
        }
      ]
    },
    {
      "cell_type": "markdown",
      "source": [
        "Tipos especiais de matrix"
      ],
      "metadata": {
        "id": "yAGw9lrbG-pU"
      }
    },
    {
      "cell_type": "code",
      "source": [
        "from numpy import zeros, ones, identity\n",
        "\n",
        "#Gera uma matriz B, que é composta por zeros, do tamanho 4x3 do tipo inteiro.\n",
        "matriz_B = zeros((4,3), dtype = 'int')\n",
        "print(\"Matriz zeros:\")\n",
        "print(matriz_B, \"\\n\")\n",
        "\n",
        "#Gera uma matriz C, que é composta pelo número 1, onde a mesma será do 2x3 do tipo decimal(ponto flutuante).\n",
        "matriz_C = ones((2,3), dtype = 'float')\n",
        "print(\"Matriz uns:\")\n",
        "print(matriz_C, \"\\n\")\n",
        "\n",
        "#Gereção de uma matriz identidade de tamanho 4x4, onde sua diagonal será composta por 1 e os demais lugares serão 0.\n",
        "matriz_D = identity(4)\n",
        "print(\"Matriz Identidade:\")\n",
        "print(matriz_D, \"\\n\")\n",
        "\n",
        "#cada termo da matriz ones será miltiplicado por 6, podem ser efetuadas outras operações.\n",
        "matriz_E = 6 * ones((2,3), dtype = 'int')\n",
        "print(matriz_E)\n"
      ],
      "metadata": {
        "id": "JVhPoUpCGyeq",
        "outputId": "5fb801ca-be69-4994-d223-719f844dc092",
        "colab": {
          "base_uri": "https://localhost:8080/"
        }
      },
      "execution_count": 16,
      "outputs": [
        {
          "output_type": "stream",
          "name": "stdout",
          "text": [
            "Matriz zeros:\n",
            "[[0 0 0]\n",
            " [0 0 0]\n",
            " [0 0 0]\n",
            " [0 0 0]] \n",
            "\n",
            "Matriz uns:\n",
            "[[1. 1. 1.]\n",
            " [1. 1. 1.]] \n",
            "\n",
            "Matriz Identidade:\n",
            "[[1. 0. 0. 0.]\n",
            " [0. 1. 0. 0.]\n",
            " [0. 0. 1. 0.]\n",
            " [0. 0. 0. 1.]] \n",
            "\n",
            "[[6 6 6]\n",
            " [6 6 6]]\n"
          ]
        }
      ]
    },
    {
      "cell_type": "markdown",
      "source": [
        "Operações com matriz"
      ],
      "metadata": {
        "id": "RsvYf6ylRJdC"
      }
    },
    {
      "cell_type": "code",
      "source": [
        "\"\"\"\n",
        "Matriz transposta, as linhas viram colunas e\n",
        "as colunas viram linhas\n",
        "\"\"\"\n",
        "\n",
        "from numpy import matrix, transpose\n",
        "\n",
        "matrix_A = matrix([\n",
        "                  [1,4,2],\n",
        "                  [4,2,9]\n",
        "                  ])\n",
        "\n",
        "print(\"Matriz A\")\n",
        "print(matrix_A)\n",
        "\n",
        "print(\"\\nMatriz transposta da matriz A\")\n",
        "matrix_A_T = transpose(matrix_A)\n",
        "print(matrix_A_T)\n",
        "\n",
        "\"\"\"\n",
        "Matriz inversa\n",
        "\"\"\"\n",
        "from numpy import matrix, linalg\n",
        "\n",
        "matrix_B = matrix([\n",
        "                  [7,2,4],\n",
        "                  [3,5,9],\n",
        "                  [1,6,9]\n",
        "                  ])\n",
        "\n",
        "print(\"Matrix B\")\n",
        "print(matrix_B)\n",
        "\n",
        "matrix_B_I = linalg.inv(matrix_B)\n",
        "print(\"\\nMatrix inversa de B\")\n",
        "print(matrix_B_I)"
      ],
      "metadata": {
        "id": "bvAinvNWQoXP",
        "outputId": "e4ccf0d0-b6be-4d39-b08f-db85d2c3ddc6",
        "colab": {
          "base_uri": "https://localhost:8080/"
        }
      },
      "execution_count": 25,
      "outputs": [
        {
          "output_type": "stream",
          "name": "stdout",
          "text": [
            "Matriz A\n",
            "[[1 4 2]\n",
            " [4 2 9]]\n",
            "\n",
            "Matriz transposta da matriz A\n",
            "[[1 4]\n",
            " [4 2]\n",
            " [2 9]]\n",
            "Matrix B\n",
            "[[7 2 4]\n",
            " [3 5 9]\n",
            " [1 6 9]]\n",
            "\n",
            "Matrix inversa de B\n",
            "[[ 0.19148936 -0.12765957  0.04255319]\n",
            " [ 0.38297872 -1.25531915  1.08510638]\n",
            " [-0.27659574  0.85106383 -0.61702128]]\n"
          ]
        }
      ]
    },
    {
      "cell_type": "code",
      "source": [
        "\"\"\"\n",
        "Maior e menor elemento\n",
        "\"\"\"\n",
        "from numpy import matrix\n",
        "\n",
        "matriz_a = matrix([\n",
        "                  [7,3,4],\n",
        "                  [4,6,9]\n",
        "                  ])\n",
        "\n",
        "#função max e min retorman o menor e maior valor na matriz.\n",
        "#axis for igual a 0 verifica o valores entres as colunas, caso seja igual a 1 será nas linhas\n",
        "maior_valor_A = matriz_a.max()\n",
        "menor_valor_A = matriz_a.min()\n",
        "\n",
        "print(maior_valor_A)\n",
        "print(menor_valor_A)\n",
        "\n",
        "\"\"\"\n",
        "Soma dos elementos\n",
        "\n",
        "\"\"\"\n",
        "\n",
        "#Funcão de soma entre os termos da matriz, tanto no eixo x, y e toda a matriz.\n",
        "soma_coluna = matriz_a.sum(axis=0)\n",
        "soma_linhas = matriz_a.sum(axis=1)\n",
        "soma_total = matriz_a.sum()\n",
        "\n",
        "print(\"\\n\"soma_coluna)\n",
        "print(\"\\n\",soma_linhas)\n",
        "print(\"\\n\",soma_total)"
      ],
      "metadata": {
        "id": "tzG0opBCePZK",
        "outputId": "1146e075-e6d6-4013-c98b-15ec22f8b951",
        "colab": {
          "base_uri": "https://localhost:8080/"
        }
      },
      "execution_count": 31,
      "outputs": [
        {
          "output_type": "stream",
          "name": "stdout",
          "text": [
            "9\n",
            "3\n",
            "[[11  9 13]]\n",
            "\n",
            " [[14]\n",
            " [19]]\n",
            "\n",
            " 33\n"
          ]
        }
      ]
    },
    {
      "cell_type": "code",
      "source": [
        "\n",
        "\n",
        "\n"
      ],
      "metadata": {
        "id": "avBWCt5IgpM8"
      },
      "execution_count": null,
      "outputs": []
    }
  ],
  "metadata": {
    "colab": {
      "collapsed_sections": [],
      "name": "Olá, este é o Colaboratory",
      "toc_visible": true,
      "provenance": [],
      "include_colab_link": true
    },
    "kernelspec": {
      "display_name": "Python 3",
      "name": "python3"
    }
  },
  "nbformat": 4,
  "nbformat_minor": 0
}